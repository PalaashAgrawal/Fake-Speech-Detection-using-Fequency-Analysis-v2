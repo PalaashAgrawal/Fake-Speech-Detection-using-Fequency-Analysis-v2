{
 "cells": [
  {
   "cell_type": "code",
   "execution_count": 1,
   "metadata": {},
   "outputs": [],
   "source": [
    "%reload_ext autoreload\n",
    "%autoreload 2\n",
    "%matplotlib inline"
   ]
  },
  {
   "cell_type": "code",
   "execution_count": 2,
   "metadata": {},
   "outputs": [],
   "source": [
    "from fastai.vision import *"
   ]
  },
  {
   "cell_type": "code",
   "execution_count": 3,
   "metadata": {},
   "outputs": [],
   "source": [
    "import numpy\n",
    "import matplotlib.pyplot as plt\n",
    "import pylab\n",
    "from scipy.io import wavfile\n",
    "from scipy.fftpack import fft\n",
    "from PIL import Image\n",
    "import os"
   ]
  },
  {
   "cell_type": "code",
   "execution_count": 4,
   "metadata": {},
   "outputs": [
    {
     "name": "stderr",
     "output_type": "stream",
     "text": [
      "/opt/anaconda3/lib/python3.7/site-packages/scipy/io/wavfile.py:273: WavFileWarning: Chunk (non-data) not understood, skipping it.\n",
      "  WavFileWarning)\n"
     ]
    }
   ],
   "source": [
    "myAudio=\"data/fake-speech-detection/Real-Donald-Trump-Audio/DT2-06.wav\"\n",
    "samplingFreq, mySound = wavfile.read(myAudio)"
   ]
  },
  {
   "cell_type": "code",
   "execution_count": null,
   "metadata": {},
   "outputs": [],
   "source": [
    "fftArray = fft(mySoundOneChannel)\n"
   ]
  },
  {
   "cell_type": "code",
   "execution_count": 14,
   "metadata": {},
   "outputs": [
    {
     "ename": "FileNotFoundError",
     "evalue": "[Errno 2] No such file or directory: 'untitled-2.wav'",
     "output_type": "error",
     "traceback": [
      "\u001b[0;31m---------------------------------------------------------------------------\u001b[0m",
      "\u001b[0;31mFileNotFoundError\u001b[0m                         Traceback (most recent call last)",
      "\u001b[0;32m<ipython-input-14-4f9ec37597e6>\u001b[0m in \u001b[0;36m<module>\u001b[0;34m\u001b[0m\n\u001b[1;32m      1\u001b[0m \u001b[0;31m#Read file and get sampling freq [ usually 44100 Hz ]  and sound object\u001b[0m\u001b[0;34m\u001b[0m\u001b[0;34m\u001b[0m\u001b[0;34m\u001b[0m\u001b[0m\n\u001b[0;32m----> 2\u001b[0;31m \u001b[0msamplingFreq\u001b[0m\u001b[0;34m,\u001b[0m \u001b[0mmySound\u001b[0m \u001b[0;34m=\u001b[0m \u001b[0mwavfile\u001b[0m\u001b[0;34m.\u001b[0m\u001b[0mread\u001b[0m\u001b[0;34m(\u001b[0m\u001b[0mmyAudio\u001b[0m\u001b[0;34m)\u001b[0m\u001b[0;34m\u001b[0m\u001b[0;34m\u001b[0m\u001b[0m\n\u001b[0m\u001b[1;32m      3\u001b[0m \u001b[0;34m\u001b[0m\u001b[0m\n\u001b[1;32m      4\u001b[0m \u001b[0;31m#Check if wave file is 16bit or 32 bit. 24bit is not supported\u001b[0m\u001b[0;34m\u001b[0m\u001b[0;34m\u001b[0m\u001b[0;34m\u001b[0m\u001b[0m\n\u001b[1;32m      5\u001b[0m \u001b[0mmySoundDataType\u001b[0m \u001b[0;34m=\u001b[0m \u001b[0mmySound\u001b[0m\u001b[0;34m.\u001b[0m\u001b[0mdtype\u001b[0m\u001b[0;34m\u001b[0m\u001b[0;34m\u001b[0m\u001b[0m\n",
      "\u001b[0;32m/opt/anaconda3/lib/python3.7/site-packages/scipy/io/wavfile.py\u001b[0m in \u001b[0;36mread\u001b[0;34m(filename, mmap)\u001b[0m\n\u001b[1;32m    231\u001b[0m         \u001b[0mmmap\u001b[0m \u001b[0;34m=\u001b[0m \u001b[0;32mFalse\u001b[0m\u001b[0;34m\u001b[0m\u001b[0;34m\u001b[0m\u001b[0m\n\u001b[1;32m    232\u001b[0m     \u001b[0;32melse\u001b[0m\u001b[0;34m:\u001b[0m\u001b[0;34m\u001b[0m\u001b[0;34m\u001b[0m\u001b[0m\n\u001b[0;32m--> 233\u001b[0;31m         \u001b[0mfid\u001b[0m \u001b[0;34m=\u001b[0m \u001b[0mopen\u001b[0m\u001b[0;34m(\u001b[0m\u001b[0mfilename\u001b[0m\u001b[0;34m,\u001b[0m \u001b[0;34m'rb'\u001b[0m\u001b[0;34m)\u001b[0m\u001b[0;34m\u001b[0m\u001b[0;34m\u001b[0m\u001b[0m\n\u001b[0m\u001b[1;32m    234\u001b[0m \u001b[0;34m\u001b[0m\u001b[0m\n\u001b[1;32m    235\u001b[0m     \u001b[0;32mtry\u001b[0m\u001b[0;34m:\u001b[0m\u001b[0;34m\u001b[0m\u001b[0;34m\u001b[0m\u001b[0m\n",
      "\u001b[0;31mFileNotFoundError\u001b[0m: [Errno 2] No such file or directory: 'untitled-2.wav'"
     ]
    }
   ],
   "source": [
    "#Read file and get sampling freq [ usually 44100 Hz ]  and sound object\n",
    "samplingFreq, mySound = wavfile.read(myAudio)\n",
    "\n",
    "#Check if wave file is 16bit or 32 bit. 24bit is not supported\n",
    "mySoundDataType = mySound.dtype\n",
    "\n",
    "#We can convert our sound array to floating point values ranging from -1 to 1 as follows\n",
    "\n",
    "mySound = mySound / (2.**15)\n",
    "\n",
    "#Check sample points and sound channel for duel channel(5060, 2) or  (5060, ) for mono channel\n",
    "\n",
    "mySoundShape = mySound.shape\n",
    "samplePoints = float(mySound.shape[0])\n",
    "\n",
    "#Get duration of sound file\n",
    "signalDuration =  mySound.shape[0] / samplingFreq\n",
    "\n",
    "#If two channels, then select only one channel\n",
    "mySoundOneChannel = mySound#[:,0]\n",
    "\n",
    "#Plotting the tone\n",
    "\n",
    "# We can represent sound by plotting the pressure values against time axis.\n",
    "#Create an array of sample point in one dimension\n",
    "timeArray = numpy.arange(0, samplePoints, 1)\n",
    "\n",
    "#\n",
    "timeArray = timeArray / samplingFreq\n",
    "\n",
    "#Scale to milliSeconds\n",
    "timeArray = timeArray * 1000\n",
    "\n",
    "#Plot the tone\n",
    "plt.plot(timeArray, mySoundOneChannel, color='b')\n",
    "plt.xlabel('Time (ms)')\n",
    "plt.ylabel('Amplitude')\n",
    "plt.show()\n",
    "\n",
    "\n",
    "#Plot frequency content\n",
    "#We can get frquency from amplitude and time using FFT , Fast Fourier Transform algorithm\n",
    "\n",
    "#Get length of mySound object array\n",
    "mySoundLength = len(mySound)\n",
    "\n",
    "#Take the Fourier transformation on given sample point \n",
    "#fftArray = fft(mySound)\n",
    "fftArray = fft(mySoundOneChannel)\n",
    "\n",
    "numUniquePoints = int(numpy.ceil((mySoundLength + 1) / 2))\n",
    "fftArray = fftArray[0:numUniquePoints]\n",
    "\n",
    "#FFT contains both magnitude and phase and given in complex numbers in real + imaginary parts (a + ib) format.\n",
    "#By taking absolute value , we get only real part\n",
    "\n",
    "fftArray = abs(fftArray)\n",
    "\n",
    "#Scale the fft array by length of sample points so that magnitude does not depend on\n",
    "#the length of the signal or on its sampling frequency\n",
    "\n",
    "fftArray = fftArray / float(mySoundLength)\n",
    "\n",
    "#FFT has both positive and negative information. Square to get positive only\n",
    "fftArray = fftArray **2\n",
    "\n",
    "#Multiply by two (research why?)\n",
    "#Odd NFFT excludes Nyquist point\n",
    "if mySoundLength % 2 > 0: #we've got odd number of points in fft\n",
    "    fftArray[1:len(fftArray)] = fftArray[1:len(fftArray)] * 2\n",
    "\n",
    "else: #We've got even number of points in fft\n",
    "    fftArray[1:len(fftArray) -1] = fftArray[1:len(fftArray) -1] * 2  \n",
    "\n",
    "freqArray = numpy.arange(0, numUniquePoints, 1.0) * (samplingFreq / mySoundLength);\n",
    "\n",
    "#Plot the frequency\n",
    "plt.plot(freqArray/1000, 10 * numpy.log10 (fftArray), color='B')\n",
    "plt.xlabel('Frequency (Khz)')\n",
    "plt.ylabel('Power (dB)')\n",
    "plt.axis('off')\n",
    "plt.show()\n",
    "\n",
    "#Get List of element in frequency array\n",
    "#print freqArray.dtype.type\n",
    "freqArrayLength = len(freqArray)\n",
    "print(\"freqArrayLength =\", freqArrayLength)\n",
    "numpy.savetxt(\"freqData.txt\", freqArray, fmt='%6.2f')\n",
    "\n",
    "#Print FFtarray information\n",
    "print(\"fftArray length =\", len(fftArray))\n",
    "numpy.savetxt(\"fftData.txt\", fftArray)"
   ]
  },
  {
   "cell_type": "code",
   "execution_count": null,
   "metadata": {},
   "outputs": [],
   "source": [
    "plt.savefig(\"fig1.png\",format=\"png\")"
   ]
  },
  {
   "cell_type": "code",
   "execution_count": 12,
   "metadata": {},
   "outputs": [
    {
     "data": {
      "image/png": "[encoded data removed]",
      "text/plain": [
       "<Figure size 432x288 with 1 Axes>"
      ]
     },
     "metadata": {
      "needs_background": "light"
     },
     "output_type": "display_data"
    }
   ],
   "source": [
    "myAudio=\"data/fake-speech-detection/Real-Donald-Trump-Audio/DT2-06.wav\"\n",
    "samplingFreq, mySound = wavfile.read(myAudio)\n",
    "\n",
    "#Check if wave file is 16bit or 32 bit. 24bit is not supported\n",
    "mySoundDataType = mySound.dtype\n",
    "\n",
    "#We can convert our sound array to floating point values ranging from -1 to 1 as follows\n",
    "\n",
    "mySound = mySound / (2.**15)\n",
    "\n",
    "#Check sample points and sound channel for duel channel(5060, 2) or  (5060, ) for mono channel\n",
    "\n",
    "mySoundShape = mySound.shape\n",
    "samplePoints = float(mySound.shape[0])\n",
    "\n",
    "#Get duration of sound file\n",
    "signalDuration =  mySound.shape[0] / samplingFreq\n",
    "if signalDuration>5.0:\n",
    "    mySound=mySound[:5*samplingFreq]\n",
    "#If two channels, then select only one channel\n",
    "mySoundOneChannel = mySound#[:,0]\n",
    "\n",
    "mySoundLength = len(mySound)\n",
    "\n",
    "#Take the Fourier transformation on given sample point \n",
    "#fftArray = fft(mySound)\n",
    "fftArray = fft(mySoundOneChannel)\n",
    "numUniquePoints = int(numpy.ceil((mySoundLength + 1) / 2))\n",
    "fftArray = fftArray[0:numUniquePoints]\n",
    "#FFT contains both magnitude and phase and given in complex numbers in real + imaginary parts (a + ib) format.\n",
    "#By taking absolute value , we get only real part\n",
    "fftArray = abs(fftArray)\n",
    "#Scale the fft array by length of sample points so that magnitude does not depend on\n",
    "#the length of the signal or on its sampling frequency\n",
    "fftArray = fftArray / float(mySoundLength)\n",
    "#FFT has both positive and negative information. Square to get positive only\n",
    "fftArray = fftArray **2\n",
    "#Multiply by two (research why?)\n",
    "#Odd NFFT excludes Nyquist point\n",
    "if mySoundLength % 2 > 0: #we've got odd number of points in fft\n",
    "    fftArray[1:len(fftArray)] = fftArray[1:len(fftArray)] * 2\n",
    "\n",
    "else: #We've got even number of points in fft\n",
    "    fftArray[1:len(fftArray) -1] = fftArray[1:len(fftArray) -1] * 2  \n",
    "\n",
    "freqArray = numpy.arange(0, numUniquePoints, 1.0) * (samplingFreq / mySoundLength);\n",
    "\n",
    "#Plot the frequency\n",
    "plt.plot(freqArray/1000, 10 * numpy.log10 (fftArray), color='b')\n",
    "plt.xlabel('Frequency (Khz)')\n",
    "plt.ylabel('Power (dB)')\n",
    "plt.axis('off')\n",
    "plt.savefig('data/fake-speech-detection/Real-Donald-Trump/a.png',format='png')\n",
    "plt.show()"
   ]
  },
  {
   "cell_type": "code",
   "execution_count": 8,
   "metadata": {},
   "outputs": [
    {
     "data": {
      "image/png": "[encoded data removed]",
      "text/plain": [
       "<Figure size 432x288 with 1 Axes>"
      ]
     },
     "metadata": {
      "needs_background": "light"
     },
     "output_type": "display_data"
    }
   ],
   "source": [
    "plt.plot(freqArray/1000, 10 * numpy.log10 (fftArray), color='B')\n",
    "plt.xlabel('Frequency (Khz)')\n",
    "plt.ylabel('Power (dB)')\n",
    "plt.axis('off')\n",
    "plt.savefig(\"data/gg.png\")\n",
    "plt.show()\n",
    "# plt.savefig(\"fig1s.png\",format=\"png\")"
   ]
  },
  {
   "cell_type": "code",
   "execution_count": null,
   "metadata": {},
   "outputs": [],
   "source": [
    "plt"
   ]
  },
  {
   "cell_type": "code",
   "execution_count": null,
   "metadata": {},
   "outputs": [],
   "source": [
    "plt.show()"
   ]
  },
  {
   "cell_type": "code",
   "execution_count": 5,
   "metadata": {},
   "outputs": [],
   "source": [
    "path='data/fake-speech-detection/Real-Donald-Trump-Audio'"
   ]
  },
  {
   "cell_type": "code",
   "execution_count": 4,
   "metadata": {},
   "outputs": [],
   "source": [
    "i=0;"
   ]
  },
  {
   "cell_type": "code",
   "execution_count": 11,
   "metadata": {},
   "outputs": [
    {
     "name": "stdout",
     "output_type": "stream",
     "text": [
      ".ipynb_checkpoints\n"
     ]
    }
   ],
   "source": [
    "for audiopath in os.listdir('data/fake-speech-detection/Real-Donald-Trump-Audio'):\n",
    "    print(audiopath)"
   ]
  },
  {
   "cell_type": "code",
   "execution_count": 19,
   "metadata": {},
   "outputs": [],
   "source": []
  },
  {
   "cell_type": "code",
   "execution_count": 23,
   "metadata": {},
   "outputs": [
    {
     "name": "stdout",
     "output_type": "stream",
     "text": [
      "data\t\t\t     humpback-identification.ipynb  titanic.ipynb\r\n",
      "fake-speech-detection.ipynb  images\r\n"
     ]
    }
   ],
   "source": []
  },
  {
   "cell_type": "code",
   "execution_count": 34,
   "metadata": {},
   "outputs": [
    {
     "name": "stdout",
     "output_type": "stream",
     "text": [
      "DT4-29.wav\n",
      "DT3-04.wav\n"
     ]
    },
    {
     "ename": "ValueError",
     "evalue": "Unexpected end of file.",
     "output_type": "error",
     "traceback": [
      "\u001b[0;31m---------------------------------------------------------------------------\u001b[0m",
      "\u001b[0;31mValueError\u001b[0m                                Traceback (most recent call last)",
      "\u001b[0;32m<ipython-input-34-d316383cccdb>\u001b[0m in \u001b[0;36m<module>\u001b[0;34m\u001b[0m\n\u001b[1;32m      6\u001b[0m     \u001b[0;31m#Read file and get sampling freq [ usually 44100 Hz ]  and sound object\u001b[0m\u001b[0;34m\u001b[0m\u001b[0;34m\u001b[0m\u001b[0;34m\u001b[0m\u001b[0m\n\u001b[1;32m      7\u001b[0m     \u001b[0mprint\u001b[0m\u001b[0;34m(\u001b[0m\u001b[0maudiopath\u001b[0m\u001b[0;34m)\u001b[0m\u001b[0;34m\u001b[0m\u001b[0;34m\u001b[0m\u001b[0m\n\u001b[0;32m----> 8\u001b[0;31m     \u001b[0msamplingFreq\u001b[0m\u001b[0;34m,\u001b[0m \u001b[0maudio\u001b[0m \u001b[0;34m=\u001b[0m \u001b[0mwavfile\u001b[0m\u001b[0;34m.\u001b[0m\u001b[0mread\u001b[0m\u001b[0;34m(\u001b[0m\u001b[0;34m'data/fake-speech-detection/Real-Donald-Trump-Audio/'\u001b[0m\u001b[0;34m+\u001b[0m\u001b[0maudiopath\u001b[0m\u001b[0;34m)\u001b[0m\u001b[0;34m\u001b[0m\u001b[0;34m\u001b[0m\u001b[0m\n\u001b[0m\u001b[1;32m      9\u001b[0m \u001b[0;34m\u001b[0m\u001b[0m\n\u001b[1;32m     10\u001b[0m     \u001b[0;31m#Check if wave file is 16bit or 32 bit. 24bit is not supported\u001b[0m\u001b[0;34m\u001b[0m\u001b[0;34m\u001b[0m\u001b[0;34m\u001b[0m\u001b[0m\n",
      "\u001b[0;32m/opt/anaconda3/lib/python3.7/site-packages/scipy/io/wavfile.py\u001b[0m in \u001b[0;36mread\u001b[0;34m(filename, mmap)\u001b[0m\n\u001b[1;32m    244\u001b[0m \u001b[0;34m\u001b[0m\u001b[0m\n\u001b[1;32m    245\u001b[0m             \u001b[0;32mif\u001b[0m \u001b[0;32mnot\u001b[0m \u001b[0mchunk_id\u001b[0m\u001b[0;34m:\u001b[0m\u001b[0;34m\u001b[0m\u001b[0;34m\u001b[0m\u001b[0m\n\u001b[0;32m--> 246\u001b[0;31m                 \u001b[0;32mraise\u001b[0m \u001b[0mValueError\u001b[0m\u001b[0;34m(\u001b[0m\u001b[0;34m\"Unexpected end of file.\"\u001b[0m\u001b[0;34m)\u001b[0m\u001b[0;34m\u001b[0m\u001b[0;34m\u001b[0m\u001b[0m\n\u001b[0m\u001b[1;32m    247\u001b[0m             \u001b[0;32melif\u001b[0m \u001b[0mlen\u001b[0m\u001b[0;34m(\u001b[0m\u001b[0mchunk_id\u001b[0m\u001b[0;34m)\u001b[0m \u001b[0;34m<\u001b[0m \u001b[0;36m4\u001b[0m\u001b[0;34m:\u001b[0m\u001b[0;34m\u001b[0m\u001b[0;34m\u001b[0m\u001b[0m\n\u001b[1;32m    248\u001b[0m                 \u001b[0;32mraise\u001b[0m \u001b[0mValueError\u001b[0m\u001b[0;34m(\u001b[0m\u001b[0;34m\"Incomplete wav chunk.\"\u001b[0m\u001b[0;34m)\u001b[0m\u001b[0;34m\u001b[0m\u001b[0;34m\u001b[0m\u001b[0m\n",
      "\u001b[0;31mValueError\u001b[0m: Unexpected end of file."
     ]
    },
    {
     "data": {
      "image/png": "[encoded data removed]",
      "text/plain": [
       "<Figure size 432x288 with 1 Axes>"
      ]
     },
     "metadata": {
      "needs_background": "light"
     },
     "output_type": "display_data"
    }
   ],
   "source": [
    "for audiopath in os.listdir('data/fake-speech-detection/Real-Donald-Trump-Audio'):\n",
    "    if audiopath=='.ipynb_checkpoints':\n",
    "        continue\n",
    "    #name=/(.*)\\.[^.]+$/\n",
    "    #i=i+1;\n",
    "    #Read file and get sampling freq [ usually 44100 Hz ]  and sound object\n",
    "    print(audiopath)\n",
    "    samplingFreq, audio = wavfile.read('data/fake-speech-detection/Real-Donald-Trump-Audio/'+audiopath)\n",
    "\n",
    "    #Check if wave file is 16bit or 32 bit. 24bit is not supported\n",
    "    mySoundDataType = audio.dtype\n",
    "\n",
    "    #We can convert our sound array to floating point values ranging from -1 to 1 as follows\n",
    "\n",
    "    audio = audio / (2.**15)\n",
    "\n",
    "    #Check sample points and sound channel for duel channel(5060, 2) or  (5060, ) for mono channel\n",
    "\n",
    "    mySoundShape = audio.shape\n",
    "    samplePoints = float(audio.shape[0])\n",
    "\n",
    "    #Get duration of sound file\n",
    "    signalDuration =  audio.shape[0] / samplingFreq\n",
    "    \n",
    "    if signalDuration>5.0:\n",
    "        audio=audio[:5*samplingFreq]\n",
    "    \n",
    "    #If two channels, then select only one channel\n",
    "    mySoundOneChannel = audio#[:,0]\n",
    "    mySoundLength = len(audio)\n",
    "\n",
    "    #Take the Fourier transformation on given sample point \n",
    "    #fftArray = fft(mySound)\n",
    "    fftArray = fft(mySoundOneChannel)\n",
    "\n",
    "    numUniquePoints = int(numpy.ceil((mySoundLength + 1) / 2))\n",
    "    fftArray = fftArray[0:numUniquePoints]\n",
    "\n",
    "    #FFT contains both magnitude and phase and given in complex numbers in real + imaginary parts (a + ib) format.\n",
    "    #By taking absolute value , we get only real part\n",
    "\n",
    "    fftArray = abs(fftArray)\n",
    "\n",
    "    #Scale the fft array by length of sample points so that magnitude does not depend on\n",
    "    #the length of the signal or on its sampling frequency\n",
    "\n",
    "    fftArray = fftArray / float(mySoundLength)\n",
    "\n",
    "    #FFT has both positive and negative information. Square to get positive only\n",
    "    fftArray = fftArray **2\n",
    "\n",
    "    #Multiply by two (research why?)\n",
    "    #Odd NFFT excludes Nyquist point\n",
    "    if mySoundLength % 2 > 0: #we've got odd number of points in fft\n",
    "        fftArray[1:len(fftArray)] = fftArray[1:len(fftArray)] * 2\n",
    "\n",
    "    else: #We've got even number of points in fft\n",
    "        fftArray[1:len(fftArray) -1] = fftArray[1:len(fftArray) -1] * 2  \n",
    "\n",
    "    freqArray = numpy.arange(0, numUniquePoints, 1.0) * (samplingFreq / mySoundLength);\n",
    "\n",
    "    \n",
    "    audioname=str(audiopath)\n",
    "    #Plot the frequency\n",
    "    fftArraymin=numpy.min(fftArray[numpy.nonzero(fftArray)])\n",
    "    fftArray[fftArray==0]=fftArraymin\n",
    "    plt.plot(freqArray/1000, 10 * numpy.log10 (fftArray), color='b')\n",
    "    plt.xlabel('Frequency (Khz)')\n",
    "    plt.ylabel('Power (dB)')\n",
    "    plt.axis('off')\n",
    "    plt.savefig('data/fake-speech-detection/Real-Donald-Trump/'+audioname[:-4]+'.png',format='png')\n",
    "    #plt.show()\n",
    "#     #Get List of element in frequency array\n",
    "#     #print freqArray.dtype.type\n",
    "#     freqArrayLength = len(freqArray)\n",
    "#     print(\"freqArrayLength =\", freqArrayLength)\n",
    "#     numpy.savetxt(\"freqData.txt\", freqArray, fmt='%6.2f')\n",
    "\n",
    "#     #Print FFtarray information\n",
    "#     print(\"fftArray length =\", len(fftArray))\n",
    "#     numpy.savetxt(\"fftData.txt\", fftArray)"
   ]
  },
  {
   "cell_type": "code",
   "execution_count": null,
   "metadata": {},
   "outputs": [],
   "source": []
  },
  {
   "cell_type": "code",
   "execution_count": null,
   "metadata": {},
   "outputs": [],
   "source": []
  },
  {
   "cell_type": "code",
   "execution_count": null,
   "metadata": {},
   "outputs": [],
   "source": []
  },
  {
   "cell_type": "code",
   "execution_count": null,
   "metadata": {},
   "outputs": [],
   "source": []
  }
 ],
 "metadata": {
  "kernelspec": {
   "display_name": "Python 3",
   "language": "python",
   "name": "python3"
  },
  "language_info": {
   "codemirror_mode": {
    "name": "ipython",
    "version": 3
   },
   "file_extension": ".py",
   "mimetype": "text/x-python",
   "name": "python",
   "nbconvert_exporter": "python",
   "pygments_lexer": "ipython3",
   "version": "3.7.4"
  }
 },
 "nbformat": 4,
 "nbformat_minor": 2
}
